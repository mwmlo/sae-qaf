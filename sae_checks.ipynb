{
 "cells": [
  {
   "cell_type": "code",
   "execution_count": null,
   "metadata": {},
   "outputs": [],
   "source": [
    "import tools\n",
    "import latent_features\n",
    "from transformer_lens import HookedTransformer\n",
    "from datasets import load_dataset\n",
    "import torch"
   ]
  },
  {
   "cell_type": "code",
   "execution_count": null,
   "metadata": {},
   "outputs": [],
   "source": [
    "model = HookedTransformer.from_pretrained(\"gpt2-small\", fold_ln=True)\n",
    "\n",
    "layer_index = 6\n",
    "location = \"mlp_post_act\"\n",
    "transformer_lens_loc = f\"blocks.{layer_index}.mlp.hook_post\"\n",
    "prev_layer_loc = f\"blocks.{layer_index}.ln2.hook_normalized\"\n",
    "\n",
    "ds = load_dataset(\"NeelNanda/pile-10k\", split='train[:10]')\n",
    "ds_tokens = model.to_tokens(ds['text'])\n",
    "ds_logits, ds_cache = model.run_with_cache(ds_tokens[0])\n",
    "\n",
    "autoencoder = tools.get_sparse_autoencoder(location, layer_index)"
   ]
  },
  {
   "cell_type": "markdown",
   "metadata": {},
   "source": [
    "Reconstruction error"
   ]
  },
  {
   "cell_type": "code",
   "execution_count": null,
   "metadata": {},
   "outputs": [],
   "source": [
    "from tools import output_infidelity, output_mse, output_r2\n",
    "\n",
    "# check reconstruction error\n",
    "\n",
    "ds_mlp_acts = ds_cache[transformer_lens_loc].numpy().reshape(-1, 768*4)\n",
    "ds_mlp_acts = torch.from_numpy(ds_mlp_acts)\n",
    "\n",
    "with torch.no_grad():\n",
    "  latents, info = autoencoder.encode(ds_mlp_acts)\n",
    "  reconstructed_acts = autoencoder.decode(latents, info)\n",
    "\n",
    "latents = latents.detach().numpy()\n",
    "reconstructed_acts = reconstructed_acts.detach().numpy()\n",
    "\n",
    "print(f\"infidelity: {output_infidelity(ds_mlp_acts, reconstructed_acts)}\")\n",
    "print(f\"MSE error: {output_mse(ds_mlp_acts, reconstructed_acts)}\")\n",
    "print(f\"R2: {output_r2(ds_mlp_acts, reconstructed_acts)}\")"
   ]
  },
  {
   "cell_type": "markdown",
   "metadata": {},
   "source": [
    "Does encoding the reconstructed activations get back to the original SAE latent feature?"
   ]
  },
  {
   "cell_type": "code",
   "execution_count": null,
   "metadata": {},
   "outputs": [],
   "source": [
    "hidden_activations = ds_cache[transformer_lens_loc][0,-1].numpy().reshape(1, 768*4)\n",
    "hidden_activations = torch.from_numpy(hidden_activations)\n",
    "\n",
    "for act in hidden_activations:\n",
    "  print(\"Explanations for prompt endoftext activation\")\n",
    "  latent_features.list_explanations_for_single_activation(act)\n",
    "  print(\"Explanations for reconstructed activation\")\n",
    "  reconstructed = autoencoder.decode(autoencoder.encode(act)[0])\n",
    "  latent_features.list_explanations_for_single_activation(reconstructed)"
   ]
  },
  {
   "cell_type": "markdown",
   "metadata": {},
   "source": [
    "Does encoding the reconstructed activations for a specific concept get back to the target concept?"
   ]
  },
  {
   "cell_type": "code",
   "execution_count": null,
   "metadata": {},
   "outputs": [],
   "source": [
    "KNOW_LATENT_INDEX = 24106 # https://www.neuronpedia.org/gpt2-small/6-mlp-oai/24106\n",
    "num_latents = autoencoder.encoder.out_features\n",
    "\n",
    "print(latent_features.get_explanations(KNOW_LATENT_INDEX))\n",
    "reconstructed_acts = autoencoder.decoder.state_dict()['weight'][:, KNOW_LATENT_INDEX]\n",
    "print(reconstructed_acts)\n",
    "# Sanity check: does the reconstructed activation correspond to the target concept?\n",
    "latent_features.list_explanations_for_single_activation(reconstructed_acts)"
   ]
  }
 ],
 "metadata": {
  "kernelspec": {
   "display_name": "sae-qaf-venv",
   "language": "python",
   "name": "python3"
  },
  "language_info": {
   "name": "python",
   "version": "3.12.3"
  }
 },
 "nbformat": 4,
 "nbformat_minor": 2
}
