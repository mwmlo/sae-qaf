{
 "cells": [
  {
   "cell_type": "code",
   "execution_count": null,
   "metadata": {},
   "outputs": [
    {
     "name": "stderr",
     "output_type": "stream",
     "text": [
      "/Users/michellelo/Desktop/sae-qaf/.venv/lib/python3.10/site-packages/tqdm/auto.py:21: TqdmWarning: IProgress not found. Please update jupyter and ipywidgets. See https://ipywidgets.readthedocs.io/en/stable/user_install.html\n",
      "  from .autonotebook import tqdm as notebook_tqdm\n"
     ]
    }
   ],
   "source": [
    "import tqdm as notebook_twdm\n",
    "from transformer_lens import HookedTransformer\n",
    "\n",
    "model = HookedTransformer.from_pretrained(\"gpt2-small\", fold_ln=True)\n",
    "\n",
    "layer_index = 6\n",
    "location = \"mlp_post_act\"\n",
    "transformer_lens_loc = f\"blocks.{layer_index}.mlp.hook_post\"\n",
    "prev_layer_loc = f\"blocks.{layer_index}.ln2.hook_normalized\""
   ]
  },
  {
   "cell_type": "code",
   "execution_count": 1,
   "metadata": {},
   "outputs": [
    {
     "name": "stderr",
     "output_type": "stream",
     "text": [
      "/Users/michellelo/Desktop/sae-qaf/.venv/lib/python3.10/site-packages/tqdm/auto.py:21: TqdmWarning: IProgress not found. Please update jupyter and ipywidgets. See https://ipywidgets.readthedocs.io/en/stable/user_install.html\n",
      "  from .autonotebook import tqdm as notebook_tqdm\n",
      "Downloading readme: 100%|██████████| 373/373 [00:00<00:00, 2.99kB/s]\n",
      "Downloading metadata: 100%|██████████| 921/921 [00:00<00:00, 7.49kB/s]\n",
      "Downloading data: 100%|██████████| 33.3M/33.3M [00:00<00:00, 33.3MB/s]\n",
      "Generating train split: 100%|██████████| 10000/10000 [00:00<00:00, 63899.38 examples/s]\n"
     ]
    },
    {
     "ename": "NameError",
     "evalue": "name 'model' is not defined",
     "output_type": "error",
     "traceback": [
      "\u001b[0;31m---------------------------------------------------------------------------\u001b[0m",
      "\u001b[0;31mNameError\u001b[0m                                 Traceback (most recent call last)",
      "Cell \u001b[0;32mIn[1], line 4\u001b[0m\n\u001b[1;32m      1\u001b[0m \u001b[38;5;28;01mfrom\u001b[39;00m \u001b[38;5;21;01mdatasets\u001b[39;00m \u001b[38;5;28;01mimport\u001b[39;00m load_dataset\n\u001b[1;32m      3\u001b[0m ds \u001b[38;5;241m=\u001b[39m load_dataset(\u001b[38;5;124m\"\u001b[39m\u001b[38;5;124mNeelNanda/pile-10k\u001b[39m\u001b[38;5;124m\"\u001b[39m, split\u001b[38;5;241m=\u001b[39m\u001b[38;5;124m'\u001b[39m\u001b[38;5;124mtrain[:10]\u001b[39m\u001b[38;5;124m'\u001b[39m)\n\u001b[0;32m----> 4\u001b[0m ds_tokens \u001b[38;5;241m=\u001b[39m \u001b[43mmodel\u001b[49m\u001b[38;5;241m.\u001b[39mto_tokens(ds[\u001b[38;5;124m'\u001b[39m\u001b[38;5;124mtext\u001b[39m\u001b[38;5;124m'\u001b[39m])\n\u001b[1;32m      5\u001b[0m ds_logits, ds_cache \u001b[38;5;241m=\u001b[39m model\u001b[38;5;241m.\u001b[39mrun_with_cache(ds_tokens[\u001b[38;5;241m0\u001b[39m])\n",
      "\u001b[0;31mNameError\u001b[0m: name 'model' is not defined"
     ]
    }
   ],
   "source": [
    "from datasets import load_dataset\n",
    "\n",
    "ds = load_dataset(\"NeelNanda/pile-10k\", split='train[:10]')\n",
    "ds_tokens = model.to_tokens(ds['text'])\n",
    "ds_logits, ds_cache = model.run_with_cache(ds_tokens[0])"
   ]
  },
  {
   "cell_type": "code",
   "execution_count": null,
   "metadata": {},
   "outputs": [],
   "source": [
    "import tools\n",
    "\n",
    "mlp = tools.extract_mlp(model, layer_index)\n",
    "\n",
    "ds_acts = ds_cache[prev_layer_loc].numpy().reshape(-1, 768)\n",
    "original_mlp = tools.get_original_mlp_for_sparx(mlp, ds_acts)\n",
    "\n",
    "shrink_pcs = [0.1, 0.3, 0.5, 0.7, 0.9]\n",
    "merged_models = []\n",
    "models_cluster_labels = []\n",
    "for pc in shrink_pcs:\n",
    "  model, labels = tools.shrink_model_global(original_mlp, pc)\n",
    "  model.model.summary()\n",
    "  merged_models.append(model)\n",
    "  models_cluster_labels.append(labels)"
   ]
  },
  {
   "cell_type": "code",
   "execution_count": null,
   "metadata": {},
   "outputs": [],
   "source": [
    "from tools import output_infidelity, output_mse, output_r2\n",
    "\n",
    "# check fidelity and error (MSE)\n",
    "original_mlp.forward_pass(ds_acts)\n",
    "original_output = original_mlp.forward_pass_data[-1]\n",
    "\n",
    "for merged_model in merged_models:\n",
    "  merged_model.forward_pass(ds_acts)\n",
    "  merged_output = merged_model.forward_pass_data[-1]\n",
    "\n",
    "  print(f\"infidelity: {output_infidelity(original_output, merged_output)}\")\n",
    "  print(f\"MSE error: {output_mse(original_output, merged_output)}\")\n",
    "  print(f\"R2: {output_r2(original_output, merged_output)}\")"
   ]
  },
  {
   "cell_type": "code",
   "execution_count": null,
   "metadata": {},
   "outputs": [],
   "source": [
    "autoencoder = tools.get_sparse_autoencoder(location, layer_index)"
   ]
  },
  {
   "cell_type": "code",
   "execution_count": null,
   "metadata": {},
   "outputs": [],
   "source": [
    "import numpy as np\n",
    "import latent_features\n",
    "\n",
    "sim_matrices = []\n",
    "\n",
    "for model, labels in zip(merged_models, models_cluster_labels):\n",
    "  print(f\"Average similarity for sparsity {shrink_pcs[len(sim_matrices)]}\")\n",
    "\n",
    "  merged_w_in = model.model.get_weights()[0]\n",
    "  num_clusters = merged_w_in.shape[1]\n",
    "  # Get map of cluster index to list of latent feature indices for that cluster\n",
    "  cluster_latents = latent_features.get_cluster_latents(model, labels, ds_cache)\n",
    "  # Build a matrix comparing proportion of shared latent concepts between every cluster\n",
    "  cluster_sim = latent_features.get_cluster_similarity_matrix(num_clusters, cluster_latents)\n",
    "  sim_matrices.append(cluster_sim)\n",
    "  average_similarity_score = np.mean(cluster_sim)\n",
    "  print(average_similarity_score)"
   ]
  },
  {
   "cell_type": "code",
   "execution_count": null,
   "metadata": {},
   "outputs": [],
   "source": [
    "for sim_matrix in sim_matrices:\n",
    "  latent_features.plot_cluster_similarity_matrix(sim_matrix)"
   ]
  }
 ],
 "metadata": {
  "kernelspec": {
   "display_name": ".venv",
   "language": "python",
   "name": "python3"
  },
  "language_info": {
   "codemirror_mode": {
    "name": "ipython",
    "version": 3
   },
   "file_extension": ".py",
   "mimetype": "text/x-python",
   "name": "python",
   "nbconvert_exporter": "python",
   "pygments_lexer": "ipython3",
   "version": "3.10.13"
  }
 },
 "nbformat": 4,
 "nbformat_minor": 2
}
