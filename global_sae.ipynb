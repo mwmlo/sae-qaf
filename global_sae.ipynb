{
 "cells": [
  {
   "cell_type": "code",
   "execution_count": null,
   "metadata": {},
   "outputs": [],
   "source": [
    "import transformer_lens.utils as utils\n",
    "from transformer_lens import ActivationCache, HookedTransformer\n",
    "\n",
    "from datasets import load_dataset\n",
    "from transformer_lens.utils import tokenize_and_concatenate\n",
    "from sae_lens import SAE\n",
    "\n",
    "import tools\n",
    "import latent_features"
   ]
  },
  {
   "cell_type": "code",
   "execution_count": null,
   "metadata": {},
   "outputs": [],
   "source": [
    "model = HookedTransformer.from_pretrained(\"gpt2-small\", fold_ln=True)\n",
    "\n",
    "layer_index = 6\n",
    "location = \"mlp_post_act\"\n",
    "transformer_lens_loc = f\"blocks.{layer_index}.mlp.hook_post\"\n",
    "prev_layer_loc = f\"blocks.{layer_index}.ln2.hook_normalized\""
   ]
  },
  {
   "cell_type": "code",
   "execution_count": null,
   "metadata": {},
   "outputs": [],
   "source": [
    "ds = load_dataset(\"NeelNanda/pile-10k\", split='train[:10]')\n",
    "ds_tokens = model.to_tokens(ds['text'])\n",
    "ds_logits, ds_cache = model.run_with_cache(ds_tokens[0])"
   ]
  },
  {
   "cell_type": "code",
   "execution_count": null,
   "metadata": {},
   "outputs": [],
   "source": [
    "mlp = tools.extract_mlp(model, layer_index)\n",
    "\n",
    "ds_acts = ds_cache[prev_layer_loc].numpy().reshape(-1, 768)\n",
    "original_mlp = tools.get_original_mlp_for_sparx(mlp, ds_acts)\n",
    "\n",
    "shrink_pcs = [0.1, 0.3, 0.5, 0.7, 0.9]\n",
    "merged_models = []\n",
    "models_cluster_labels = []\n",
    "for pc in shrink_pcs:\n",
    "  model, labels = tools.shrink_model_global(original_mlp, pc)\n",
    "  model.model.summary()\n",
    "  merged_models.append(model)\n",
    "  models_cluster_labels.append(labels)"
   ]
  }
 ],
 "metadata": {
  "language_info": {
   "name": "python"
  }
 },
 "nbformat": 4,
 "nbformat_minor": 2
}
